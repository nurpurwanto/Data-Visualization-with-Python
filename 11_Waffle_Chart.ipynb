{
  "cells": [
    {
      "cell_type": "markdown",
      "metadata": {
        "id": "C6Oenq1RTdrX"
      },
      "source": [
        "## Apa itu Waffle Chart ?"
      ]
    },
    {
      "cell_type": "markdown",
      "metadata": {
        "id": "on9k5WjCTdra"
      },
      "source": [
        "__Waffle Chart__ adalah sebuah visualisasi data yang umumnya berbentuk persegi dan biasanya terdiri dari kotak-kotak kecil yang disusun dalam tata letak tertentu. Kotak diberi warna sesuai dengan proporsi masing-masing kategori. Dinamakan <i>waffle chart</i> karena memang bentuknya menyerupai jenis makanan <i>waffle</i>. \n",
        "\n",
        " <i>import</i> terlebih dahulu <i>library</i> yang dibutuhkan seperti Pandas, Numpy, dan tentunya Matplotlib. "
      ]
    },
    {
      "cell_type": "code",
      "execution_count": 1,
      "metadata": {
        "id": "3-oCPOLXTdrc"
      },
      "outputs": [],
      "source": [
        "import pandas as pd\n",
        "import numpy as np\n",
        "import matplotlib.pyplot as plt\n",
        "\n",
        "import matplotlib.patches as mpatches # Diperlukan untuk membuat waffle Charts"
      ]
    },
    {
      "cell_type": "markdown",
      "metadata": {
        "id": "3bm9PaHLTdrh"
      },
      "source": [
        "## Load dataset"
      ]
    },
    {
      "cell_type": "markdown",
      "metadata": {
        "id": "ufwDqvzDTdri"
      },
      "source": [
        "Dataset yang akan digunakan pada praktek kali ini adalah dataset <a href='https://www.kaggle.com/imdevskp/world-population-19602018'>Populasi penduduk dunia</a> berdasarkan negara.\n",
        "\n",
        "<i>load</i> dataset ke dalam dataframe Pandas dan disimpan pada variabel <code>df</code>."
      ]
    },
    {
      "cell_type": "code",
      "source": [
        "from google.colab import drive\n",
        "drive.mount('/content/gdrive')"
      ],
      "metadata": {
        "colab": {
          "base_uri": "https://localhost:8080/"
        },
        "id": "3EyAThE3Zyb0",
        "outputId": "c4fae138-6ce6-4f4e-b173-085cd5836882"
      },
      "execution_count": 2,
      "outputs": [
        {
          "output_type": "stream",
          "name": "stdout",
          "text": [
            "Mounted at /content/gdrive\n"
          ]
        }
      ]
    },
    {
      "cell_type": "code",
      "source": [
        "%cd /content/gdrive/My Drive/Colab Notebooks/DATASET/datasets_py/"
      ],
      "metadata": {
        "colab": {
          "base_uri": "https://localhost:8080/"
        },
        "id": "uJUVEBtXZyTO",
        "outputId": "a0555990-62de-4dcc-dfad-7487830a1ec6"
      },
      "execution_count": 3,
      "outputs": [
        {
          "output_type": "stream",
          "name": "stdout",
          "text": [
            "/content/gdrive/My Drive/Colab Notebooks/DATASET/datasets_py\n"
          ]
        }
      ]
    },
    {
      "cell_type": "code",
      "execution_count": 4,
      "metadata": {
        "colab": {
          "base_uri": "https://localhost:8080/",
          "height": 424
        },
        "id": "ZryQNflvTdrj",
        "outputId": "a2983333-368b-4fda-d0d1-f9d39333db68"
      },
      "outputs": [
        {
          "output_type": "execute_result",
          "data": {
            "text/plain": [
              "  Country (or dependency)  Population (2020)  Yearly Change %  Net Change  \\\n",
              "0                   China         1439323776             0.39     5540090   \n",
              "1                   India         1380004385             0.99    13586631   \n",
              "2           United States          331002651             0.59     1937734   \n",
              "3               Indonesia          273523615             1.07     2898047   \n",
              "4                Pakistan          220892340             2.00     4327022   \n",
              "5                  Brazil          212559417             0.72     1509890   \n",
              "6                 Nigeria          206139589             2.58     5175990   \n",
              "7              Bangladesh          164689383             1.01     1643222   \n",
              "8                  Russia          145934462             0.04       62206   \n",
              "9                  Mexico          128932753             1.06     1357224   \n",
              "\n",
              "   Density (P/Km²)  Land Area (Km²)  Migrants (net)  Fert. Rate  Med. Age  \\\n",
              "0            153.0        9388211.0       -348399.0         1.7      38.0   \n",
              "1            464.0        2973190.0       -532687.0         2.2      28.0   \n",
              "2             36.0        9147420.0        954806.0         1.8      38.0   \n",
              "3            151.0        1811570.0        -98955.0         2.3      30.0   \n",
              "4            287.0         770880.0       -233379.0         3.6      23.0   \n",
              "5             25.0        8358140.0         21200.0         1.7      33.0   \n",
              "6            226.0         910770.0        -60000.0         5.4      18.0   \n",
              "7           1265.0         130170.0       -369501.0         2.1      28.0   \n",
              "8              9.0       16376870.0        182456.0         1.8      40.0   \n",
              "9             66.0        1943950.0        -60000.0         2.1      29.0   \n",
              "\n",
              "   Urban Pop %  World Share %  \n",
              "0         61.0          18.47  \n",
              "1         35.0          17.70  \n",
              "2         83.0           4.25  \n",
              "3         56.0           3.51  \n",
              "4         35.0           2.83  \n",
              "5         88.0           2.73  \n",
              "6         52.0           2.64  \n",
              "7         39.0           2.11  \n",
              "8         74.0           1.87  \n",
              "9         84.0           1.65  "
            ],
            "text/html": [
              "\n",
              "  <div id=\"df-e08b5a04-ca14-4fc5-93a2-8c7478f1c25c\">\n",
              "    <div class=\"colab-df-container\">\n",
              "      <div>\n",
              "<style scoped>\n",
              "    .dataframe tbody tr th:only-of-type {\n",
              "        vertical-align: middle;\n",
              "    }\n",
              "\n",
              "    .dataframe tbody tr th {\n",
              "        vertical-align: top;\n",
              "    }\n",
              "\n",
              "    .dataframe thead th {\n",
              "        text-align: right;\n",
              "    }\n",
              "</style>\n",
              "<table border=\"1\" class=\"dataframe\">\n",
              "  <thead>\n",
              "    <tr style=\"text-align: right;\">\n",
              "      <th></th>\n",
              "      <th>Country (or dependency)</th>\n",
              "      <th>Population (2020)</th>\n",
              "      <th>Yearly Change %</th>\n",
              "      <th>Net Change</th>\n",
              "      <th>Density (P/Km²)</th>\n",
              "      <th>Land Area (Km²)</th>\n",
              "      <th>Migrants (net)</th>\n",
              "      <th>Fert. Rate</th>\n",
              "      <th>Med. Age</th>\n",
              "      <th>Urban Pop %</th>\n",
              "      <th>World Share %</th>\n",
              "    </tr>\n",
              "  </thead>\n",
              "  <tbody>\n",
              "    <tr>\n",
              "      <th>0</th>\n",
              "      <td>China</td>\n",
              "      <td>1439323776</td>\n",
              "      <td>0.39</td>\n",
              "      <td>5540090</td>\n",
              "      <td>153.0</td>\n",
              "      <td>9388211.0</td>\n",
              "      <td>-348399.0</td>\n",
              "      <td>1.7</td>\n",
              "      <td>38.0</td>\n",
              "      <td>61.0</td>\n",
              "      <td>18.47</td>\n",
              "    </tr>\n",
              "    <tr>\n",
              "      <th>1</th>\n",
              "      <td>India</td>\n",
              "      <td>1380004385</td>\n",
              "      <td>0.99</td>\n",
              "      <td>13586631</td>\n",
              "      <td>464.0</td>\n",
              "      <td>2973190.0</td>\n",
              "      <td>-532687.0</td>\n",
              "      <td>2.2</td>\n",
              "      <td>28.0</td>\n",
              "      <td>35.0</td>\n",
              "      <td>17.70</td>\n",
              "    </tr>\n",
              "    <tr>\n",
              "      <th>2</th>\n",
              "      <td>United States</td>\n",
              "      <td>331002651</td>\n",
              "      <td>0.59</td>\n",
              "      <td>1937734</td>\n",
              "      <td>36.0</td>\n",
              "      <td>9147420.0</td>\n",
              "      <td>954806.0</td>\n",
              "      <td>1.8</td>\n",
              "      <td>38.0</td>\n",
              "      <td>83.0</td>\n",
              "      <td>4.25</td>\n",
              "    </tr>\n",
              "    <tr>\n",
              "      <th>3</th>\n",
              "      <td>Indonesia</td>\n",
              "      <td>273523615</td>\n",
              "      <td>1.07</td>\n",
              "      <td>2898047</td>\n",
              "      <td>151.0</td>\n",
              "      <td>1811570.0</td>\n",
              "      <td>-98955.0</td>\n",
              "      <td>2.3</td>\n",
              "      <td>30.0</td>\n",
              "      <td>56.0</td>\n",
              "      <td>3.51</td>\n",
              "    </tr>\n",
              "    <tr>\n",
              "      <th>4</th>\n",
              "      <td>Pakistan</td>\n",
              "      <td>220892340</td>\n",
              "      <td>2.00</td>\n",
              "      <td>4327022</td>\n",
              "      <td>287.0</td>\n",
              "      <td>770880.0</td>\n",
              "      <td>-233379.0</td>\n",
              "      <td>3.6</td>\n",
              "      <td>23.0</td>\n",
              "      <td>35.0</td>\n",
              "      <td>2.83</td>\n",
              "    </tr>\n",
              "    <tr>\n",
              "      <th>5</th>\n",
              "      <td>Brazil</td>\n",
              "      <td>212559417</td>\n",
              "      <td>0.72</td>\n",
              "      <td>1509890</td>\n",
              "      <td>25.0</td>\n",
              "      <td>8358140.0</td>\n",
              "      <td>21200.0</td>\n",
              "      <td>1.7</td>\n",
              "      <td>33.0</td>\n",
              "      <td>88.0</td>\n",
              "      <td>2.73</td>\n",
              "    </tr>\n",
              "    <tr>\n",
              "      <th>6</th>\n",
              "      <td>Nigeria</td>\n",
              "      <td>206139589</td>\n",
              "      <td>2.58</td>\n",
              "      <td>5175990</td>\n",
              "      <td>226.0</td>\n",
              "      <td>910770.0</td>\n",
              "      <td>-60000.0</td>\n",
              "      <td>5.4</td>\n",
              "      <td>18.0</td>\n",
              "      <td>52.0</td>\n",
              "      <td>2.64</td>\n",
              "    </tr>\n",
              "    <tr>\n",
              "      <th>7</th>\n",
              "      <td>Bangladesh</td>\n",
              "      <td>164689383</td>\n",
              "      <td>1.01</td>\n",
              "      <td>1643222</td>\n",
              "      <td>1265.0</td>\n",
              "      <td>130170.0</td>\n",
              "      <td>-369501.0</td>\n",
              "      <td>2.1</td>\n",
              "      <td>28.0</td>\n",
              "      <td>39.0</td>\n",
              "      <td>2.11</td>\n",
              "    </tr>\n",
              "    <tr>\n",
              "      <th>8</th>\n",
              "      <td>Russia</td>\n",
              "      <td>145934462</td>\n",
              "      <td>0.04</td>\n",
              "      <td>62206</td>\n",
              "      <td>9.0</td>\n",
              "      <td>16376870.0</td>\n",
              "      <td>182456.0</td>\n",
              "      <td>1.8</td>\n",
              "      <td>40.0</td>\n",
              "      <td>74.0</td>\n",
              "      <td>1.87</td>\n",
              "    </tr>\n",
              "    <tr>\n",
              "      <th>9</th>\n",
              "      <td>Mexico</td>\n",
              "      <td>128932753</td>\n",
              "      <td>1.06</td>\n",
              "      <td>1357224</td>\n",
              "      <td>66.0</td>\n",
              "      <td>1943950.0</td>\n",
              "      <td>-60000.0</td>\n",
              "      <td>2.1</td>\n",
              "      <td>29.0</td>\n",
              "      <td>84.0</td>\n",
              "      <td>1.65</td>\n",
              "    </tr>\n",
              "  </tbody>\n",
              "</table>\n",
              "</div>\n",
              "      <button class=\"colab-df-convert\" onclick=\"convertToInteractive('df-e08b5a04-ca14-4fc5-93a2-8c7478f1c25c')\"\n",
              "              title=\"Convert this dataframe to an interactive table.\"\n",
              "              style=\"display:none;\">\n",
              "        \n",
              "  <svg xmlns=\"http://www.w3.org/2000/svg\" height=\"24px\"viewBox=\"0 0 24 24\"\n",
              "       width=\"24px\">\n",
              "    <path d=\"M0 0h24v24H0V0z\" fill=\"none\"/>\n",
              "    <path d=\"M18.56 5.44l.94 2.06.94-2.06 2.06-.94-2.06-.94-.94-2.06-.94 2.06-2.06.94zm-11 1L8.5 8.5l.94-2.06 2.06-.94-2.06-.94L8.5 2.5l-.94 2.06-2.06.94zm10 10l.94 2.06.94-2.06 2.06-.94-2.06-.94-.94-2.06-.94 2.06-2.06.94z\"/><path d=\"M17.41 7.96l-1.37-1.37c-.4-.4-.92-.59-1.43-.59-.52 0-1.04.2-1.43.59L10.3 9.45l-7.72 7.72c-.78.78-.78 2.05 0 2.83L4 21.41c.39.39.9.59 1.41.59.51 0 1.02-.2 1.41-.59l7.78-7.78 2.81-2.81c.8-.78.8-2.07 0-2.86zM5.41 20L4 18.59l7.72-7.72 1.47 1.35L5.41 20z\"/>\n",
              "  </svg>\n",
              "      </button>\n",
              "      \n",
              "  <style>\n",
              "    .colab-df-container {\n",
              "      display:flex;\n",
              "      flex-wrap:wrap;\n",
              "      gap: 12px;\n",
              "    }\n",
              "\n",
              "    .colab-df-convert {\n",
              "      background-color: #E8F0FE;\n",
              "      border: none;\n",
              "      border-radius: 50%;\n",
              "      cursor: pointer;\n",
              "      display: none;\n",
              "      fill: #1967D2;\n",
              "      height: 32px;\n",
              "      padding: 0 0 0 0;\n",
              "      width: 32px;\n",
              "    }\n",
              "\n",
              "    .colab-df-convert:hover {\n",
              "      background-color: #E2EBFA;\n",
              "      box-shadow: 0px 1px 2px rgba(60, 64, 67, 0.3), 0px 1px 3px 1px rgba(60, 64, 67, 0.15);\n",
              "      fill: #174EA6;\n",
              "    }\n",
              "\n",
              "    [theme=dark] .colab-df-convert {\n",
              "      background-color: #3B4455;\n",
              "      fill: #D2E3FC;\n",
              "    }\n",
              "\n",
              "    [theme=dark] .colab-df-convert:hover {\n",
              "      background-color: #434B5C;\n",
              "      box-shadow: 0px 1px 3px 1px rgba(0, 0, 0, 0.15);\n",
              "      filter: drop-shadow(0px 1px 2px rgba(0, 0, 0, 0.3));\n",
              "      fill: #FFFFFF;\n",
              "    }\n",
              "  </style>\n",
              "\n",
              "      <script>\n",
              "        const buttonEl =\n",
              "          document.querySelector('#df-e08b5a04-ca14-4fc5-93a2-8c7478f1c25c button.colab-df-convert');\n",
              "        buttonEl.style.display =\n",
              "          google.colab.kernel.accessAllowed ? 'block' : 'none';\n",
              "\n",
              "        async function convertToInteractive(key) {\n",
              "          const element = document.querySelector('#df-e08b5a04-ca14-4fc5-93a2-8c7478f1c25c');\n",
              "          const dataTable =\n",
              "            await google.colab.kernel.invokeFunction('convertToInteractive',\n",
              "                                                     [key], {});\n",
              "          if (!dataTable) return;\n",
              "\n",
              "          const docLinkHtml = 'Like what you see? Visit the ' +\n",
              "            '<a target=\"_blank\" href=https://colab.research.google.com/notebooks/data_table.ipynb>data table notebook</a>'\n",
              "            + ' to learn more about interactive tables.';\n",
              "          element.innerHTML = '';\n",
              "          dataTable['output_type'] = 'display_data';\n",
              "          await google.colab.output.renderOutput(dataTable, element);\n",
              "          const docLink = document.createElement('div');\n",
              "          docLink.innerHTML = docLinkHtml;\n",
              "          element.appendChild(docLink);\n",
              "        }\n",
              "      </script>\n",
              "    </div>\n",
              "  </div>\n",
              "  "
            ]
          },
          "metadata": {},
          "execution_count": 4
        }
      ],
      "source": [
        "# Load dataset\n",
        "\n",
        "df = pd.read_csv(\"pop_worldometer_data.csv\")\n",
        "df.head(10)"
      ]
    },
    {
      "cell_type": "markdown",
      "metadata": {
        "id": "V3F6ndapTdrk"
      },
      "source": [
        "Untuk memudahkan proses visualisasi, kolom <code>Country (or dependency)</code> menjadi indeks."
      ]
    },
    {
      "cell_type": "code",
      "execution_count": 5,
      "metadata": {
        "id": "YvgOxqklTdrk"
      },
      "outputs": [],
      "source": [
        "# Menjadikan kolom 'Country (or dependency)' sebagai indeks\n",
        "\n",
        "df.set_index('Country (or dependency)', inplace=True)"
      ]
    },
    {
      "cell_type": "markdown",
      "metadata": {
        "id": "NjjANWNATdrl"
      },
      "source": [
        "lihat data teratas dari dataframe <code>df</code> setelah perubahan indeks."
      ]
    },
    {
      "cell_type": "code",
      "execution_count": 6,
      "metadata": {
        "colab": {
          "base_uri": "https://localhost:8080/",
          "height": 473
        },
        "id": "9110h5XHTdrm",
        "outputId": "b1e5312f-87c2-4685-918d-8c61a2cb403b"
      },
      "outputs": [
        {
          "output_type": "execute_result",
          "data": {
            "text/plain": [
              "                         Population (2020)  Yearly Change %  Net Change  \\\n",
              "Country (or dependency)                                                   \n",
              "China                           1439323776             0.39     5540090   \n",
              "India                           1380004385             0.99    13586631   \n",
              "United States                    331002651             0.59     1937734   \n",
              "Indonesia                        273523615             1.07     2898047   \n",
              "Pakistan                         220892340             2.00     4327022   \n",
              "Brazil                           212559417             0.72     1509890   \n",
              "Nigeria                          206139589             2.58     5175990   \n",
              "Bangladesh                       164689383             1.01     1643222   \n",
              "Russia                           145934462             0.04       62206   \n",
              "Mexico                           128932753             1.06     1357224   \n",
              "\n",
              "                         Density (P/Km²)  Land Area (Km²)  Migrants (net)  \\\n",
              "Country (or dependency)                                                     \n",
              "China                              153.0        9388211.0       -348399.0   \n",
              "India                              464.0        2973190.0       -532687.0   \n",
              "United States                       36.0        9147420.0        954806.0   \n",
              "Indonesia                          151.0        1811570.0        -98955.0   \n",
              "Pakistan                           287.0         770880.0       -233379.0   \n",
              "Brazil                              25.0        8358140.0         21200.0   \n",
              "Nigeria                            226.0         910770.0        -60000.0   \n",
              "Bangladesh                        1265.0         130170.0       -369501.0   \n",
              "Russia                               9.0       16376870.0        182456.0   \n",
              "Mexico                              66.0        1943950.0        -60000.0   \n",
              "\n",
              "                         Fert. Rate  Med. Age  Urban Pop %  World Share %  \n",
              "Country (or dependency)                                                    \n",
              "China                           1.7      38.0         61.0          18.47  \n",
              "India                           2.2      28.0         35.0          17.70  \n",
              "United States                   1.8      38.0         83.0           4.25  \n",
              "Indonesia                       2.3      30.0         56.0           3.51  \n",
              "Pakistan                        3.6      23.0         35.0           2.83  \n",
              "Brazil                          1.7      33.0         88.0           2.73  \n",
              "Nigeria                         5.4      18.0         52.0           2.64  \n",
              "Bangladesh                      2.1      28.0         39.0           2.11  \n",
              "Russia                          1.8      40.0         74.0           1.87  \n",
              "Mexico                          2.1      29.0         84.0           1.65  "
            ],
            "text/html": [
              "\n",
              "  <div id=\"df-58961d30-d090-4764-845e-a9d4f1d32640\">\n",
              "    <div class=\"colab-df-container\">\n",
              "      <div>\n",
              "<style scoped>\n",
              "    .dataframe tbody tr th:only-of-type {\n",
              "        vertical-align: middle;\n",
              "    }\n",
              "\n",
              "    .dataframe tbody tr th {\n",
              "        vertical-align: top;\n",
              "    }\n",
              "\n",
              "    .dataframe thead th {\n",
              "        text-align: right;\n",
              "    }\n",
              "</style>\n",
              "<table border=\"1\" class=\"dataframe\">\n",
              "  <thead>\n",
              "    <tr style=\"text-align: right;\">\n",
              "      <th></th>\n",
              "      <th>Population (2020)</th>\n",
              "      <th>Yearly Change %</th>\n",
              "      <th>Net Change</th>\n",
              "      <th>Density (P/Km²)</th>\n",
              "      <th>Land Area (Km²)</th>\n",
              "      <th>Migrants (net)</th>\n",
              "      <th>Fert. Rate</th>\n",
              "      <th>Med. Age</th>\n",
              "      <th>Urban Pop %</th>\n",
              "      <th>World Share %</th>\n",
              "    </tr>\n",
              "    <tr>\n",
              "      <th>Country (or dependency)</th>\n",
              "      <th></th>\n",
              "      <th></th>\n",
              "      <th></th>\n",
              "      <th></th>\n",
              "      <th></th>\n",
              "      <th></th>\n",
              "      <th></th>\n",
              "      <th></th>\n",
              "      <th></th>\n",
              "      <th></th>\n",
              "    </tr>\n",
              "  </thead>\n",
              "  <tbody>\n",
              "    <tr>\n",
              "      <th>China</th>\n",
              "      <td>1439323776</td>\n",
              "      <td>0.39</td>\n",
              "      <td>5540090</td>\n",
              "      <td>153.0</td>\n",
              "      <td>9388211.0</td>\n",
              "      <td>-348399.0</td>\n",
              "      <td>1.7</td>\n",
              "      <td>38.0</td>\n",
              "      <td>61.0</td>\n",
              "      <td>18.47</td>\n",
              "    </tr>\n",
              "    <tr>\n",
              "      <th>India</th>\n",
              "      <td>1380004385</td>\n",
              "      <td>0.99</td>\n",
              "      <td>13586631</td>\n",
              "      <td>464.0</td>\n",
              "      <td>2973190.0</td>\n",
              "      <td>-532687.0</td>\n",
              "      <td>2.2</td>\n",
              "      <td>28.0</td>\n",
              "      <td>35.0</td>\n",
              "      <td>17.70</td>\n",
              "    </tr>\n",
              "    <tr>\n",
              "      <th>United States</th>\n",
              "      <td>331002651</td>\n",
              "      <td>0.59</td>\n",
              "      <td>1937734</td>\n",
              "      <td>36.0</td>\n",
              "      <td>9147420.0</td>\n",
              "      <td>954806.0</td>\n",
              "      <td>1.8</td>\n",
              "      <td>38.0</td>\n",
              "      <td>83.0</td>\n",
              "      <td>4.25</td>\n",
              "    </tr>\n",
              "    <tr>\n",
              "      <th>Indonesia</th>\n",
              "      <td>273523615</td>\n",
              "      <td>1.07</td>\n",
              "      <td>2898047</td>\n",
              "      <td>151.0</td>\n",
              "      <td>1811570.0</td>\n",
              "      <td>-98955.0</td>\n",
              "      <td>2.3</td>\n",
              "      <td>30.0</td>\n",
              "      <td>56.0</td>\n",
              "      <td>3.51</td>\n",
              "    </tr>\n",
              "    <tr>\n",
              "      <th>Pakistan</th>\n",
              "      <td>220892340</td>\n",
              "      <td>2.00</td>\n",
              "      <td>4327022</td>\n",
              "      <td>287.0</td>\n",
              "      <td>770880.0</td>\n",
              "      <td>-233379.0</td>\n",
              "      <td>3.6</td>\n",
              "      <td>23.0</td>\n",
              "      <td>35.0</td>\n",
              "      <td>2.83</td>\n",
              "    </tr>\n",
              "    <tr>\n",
              "      <th>Brazil</th>\n",
              "      <td>212559417</td>\n",
              "      <td>0.72</td>\n",
              "      <td>1509890</td>\n",
              "      <td>25.0</td>\n",
              "      <td>8358140.0</td>\n",
              "      <td>21200.0</td>\n",
              "      <td>1.7</td>\n",
              "      <td>33.0</td>\n",
              "      <td>88.0</td>\n",
              "      <td>2.73</td>\n",
              "    </tr>\n",
              "    <tr>\n",
              "      <th>Nigeria</th>\n",
              "      <td>206139589</td>\n",
              "      <td>2.58</td>\n",
              "      <td>5175990</td>\n",
              "      <td>226.0</td>\n",
              "      <td>910770.0</td>\n",
              "      <td>-60000.0</td>\n",
              "      <td>5.4</td>\n",
              "      <td>18.0</td>\n",
              "      <td>52.0</td>\n",
              "      <td>2.64</td>\n",
              "    </tr>\n",
              "    <tr>\n",
              "      <th>Bangladesh</th>\n",
              "      <td>164689383</td>\n",
              "      <td>1.01</td>\n",
              "      <td>1643222</td>\n",
              "      <td>1265.0</td>\n",
              "      <td>130170.0</td>\n",
              "      <td>-369501.0</td>\n",
              "      <td>2.1</td>\n",
              "      <td>28.0</td>\n",
              "      <td>39.0</td>\n",
              "      <td>2.11</td>\n",
              "    </tr>\n",
              "    <tr>\n",
              "      <th>Russia</th>\n",
              "      <td>145934462</td>\n",
              "      <td>0.04</td>\n",
              "      <td>62206</td>\n",
              "      <td>9.0</td>\n",
              "      <td>16376870.0</td>\n",
              "      <td>182456.0</td>\n",
              "      <td>1.8</td>\n",
              "      <td>40.0</td>\n",
              "      <td>74.0</td>\n",
              "      <td>1.87</td>\n",
              "    </tr>\n",
              "    <tr>\n",
              "      <th>Mexico</th>\n",
              "      <td>128932753</td>\n",
              "      <td>1.06</td>\n",
              "      <td>1357224</td>\n",
              "      <td>66.0</td>\n",
              "      <td>1943950.0</td>\n",
              "      <td>-60000.0</td>\n",
              "      <td>2.1</td>\n",
              "      <td>29.0</td>\n",
              "      <td>84.0</td>\n",
              "      <td>1.65</td>\n",
              "    </tr>\n",
              "  </tbody>\n",
              "</table>\n",
              "</div>\n",
              "      <button class=\"colab-df-convert\" onclick=\"convertToInteractive('df-58961d30-d090-4764-845e-a9d4f1d32640')\"\n",
              "              title=\"Convert this dataframe to an interactive table.\"\n",
              "              style=\"display:none;\">\n",
              "        \n",
              "  <svg xmlns=\"http://www.w3.org/2000/svg\" height=\"24px\"viewBox=\"0 0 24 24\"\n",
              "       width=\"24px\">\n",
              "    <path d=\"M0 0h24v24H0V0z\" fill=\"none\"/>\n",
              "    <path d=\"M18.56 5.44l.94 2.06.94-2.06 2.06-.94-2.06-.94-.94-2.06-.94 2.06-2.06.94zm-11 1L8.5 8.5l.94-2.06 2.06-.94-2.06-.94L8.5 2.5l-.94 2.06-2.06.94zm10 10l.94 2.06.94-2.06 2.06-.94-2.06-.94-.94-2.06-.94 2.06-2.06.94z\"/><path d=\"M17.41 7.96l-1.37-1.37c-.4-.4-.92-.59-1.43-.59-.52 0-1.04.2-1.43.59L10.3 9.45l-7.72 7.72c-.78.78-.78 2.05 0 2.83L4 21.41c.39.39.9.59 1.41.59.51 0 1.02-.2 1.41-.59l7.78-7.78 2.81-2.81c.8-.78.8-2.07 0-2.86zM5.41 20L4 18.59l7.72-7.72 1.47 1.35L5.41 20z\"/>\n",
              "  </svg>\n",
              "      </button>\n",
              "      \n",
              "  <style>\n",
              "    .colab-df-container {\n",
              "      display:flex;\n",
              "      flex-wrap:wrap;\n",
              "      gap: 12px;\n",
              "    }\n",
              "\n",
              "    .colab-df-convert {\n",
              "      background-color: #E8F0FE;\n",
              "      border: none;\n",
              "      border-radius: 50%;\n",
              "      cursor: pointer;\n",
              "      display: none;\n",
              "      fill: #1967D2;\n",
              "      height: 32px;\n",
              "      padding: 0 0 0 0;\n",
              "      width: 32px;\n",
              "    }\n",
              "\n",
              "    .colab-df-convert:hover {\n",
              "      background-color: #E2EBFA;\n",
              "      box-shadow: 0px 1px 2px rgba(60, 64, 67, 0.3), 0px 1px 3px 1px rgba(60, 64, 67, 0.15);\n",
              "      fill: #174EA6;\n",
              "    }\n",
              "\n",
              "    [theme=dark] .colab-df-convert {\n",
              "      background-color: #3B4455;\n",
              "      fill: #D2E3FC;\n",
              "    }\n",
              "\n",
              "    [theme=dark] .colab-df-convert:hover {\n",
              "      background-color: #434B5C;\n",
              "      box-shadow: 0px 1px 3px 1px rgba(0, 0, 0, 0.15);\n",
              "      filter: drop-shadow(0px 1px 2px rgba(0, 0, 0, 0.3));\n",
              "      fill: #FFFFFF;\n",
              "    }\n",
              "  </style>\n",
              "\n",
              "      <script>\n",
              "        const buttonEl =\n",
              "          document.querySelector('#df-58961d30-d090-4764-845e-a9d4f1d32640 button.colab-df-convert');\n",
              "        buttonEl.style.display =\n",
              "          google.colab.kernel.accessAllowed ? 'block' : 'none';\n",
              "\n",
              "        async function convertToInteractive(key) {\n",
              "          const element = document.querySelector('#df-58961d30-d090-4764-845e-a9d4f1d32640');\n",
              "          const dataTable =\n",
              "            await google.colab.kernel.invokeFunction('convertToInteractive',\n",
              "                                                     [key], {});\n",
              "          if (!dataTable) return;\n",
              "\n",
              "          const docLinkHtml = 'Like what you see? Visit the ' +\n",
              "            '<a target=\"_blank\" href=https://colab.research.google.com/notebooks/data_table.ipynb>data table notebook</a>'\n",
              "            + ' to learn more about interactive tables.';\n",
              "          element.innerHTML = '';\n",
              "          dataTable['output_type'] = 'display_data';\n",
              "          await google.colab.output.renderOutput(dataTable, element);\n",
              "          const docLink = document.createElement('div');\n",
              "          docLink.innerHTML = docLinkHtml;\n",
              "          element.appendChild(docLink);\n",
              "        }\n",
              "      </script>\n",
              "    </div>\n",
              "  </div>\n",
              "  "
            ]
          },
          "metadata": {},
          "execution_count": 6
        }
      ],
      "source": [
        "# Menampilkan 10 data teratas\n",
        "\n",
        "df.head(10)"
      ]
    },
    {
      "cell_type": "markdown",
      "metadata": {
        "id": "S-cNEOWzTdrm"
      },
      "source": [
        "Membuat <i>waffle chart</i> untuk 5 negara dengan populasi terbanyak. Karena dataframe <code>df</code> sudah terurut berdasarkan populasi terbanyak, sekarang kita buat dataframe baru yang menampung 5 data teratas dari dataframe <code>df</code> dan disimpan pada variabel <code>df_top5</code>."
      ]
    },
    {
      "cell_type": "code",
      "execution_count": 7,
      "metadata": {
        "colab": {
          "base_uri": "https://localhost:8080/",
          "height": 316
        },
        "id": "Q354Rs47Tdrn",
        "outputId": "4b2818aa-e642-4565-9e88-edde038b19e3"
      },
      "outputs": [
        {
          "output_type": "execute_result",
          "data": {
            "text/plain": [
              "                         Population (2020)  Yearly Change %  Net Change  \\\n",
              "Country (or dependency)                                                   \n",
              "China                           1439323776             0.39     5540090   \n",
              "India                           1380004385             0.99    13586631   \n",
              "United States                    331002651             0.59     1937734   \n",
              "Indonesia                        273523615             1.07     2898047   \n",
              "Pakistan                         220892340             2.00     4327022   \n",
              "\n",
              "                         Density (P/Km²)  Land Area (Km²)  Migrants (net)  \\\n",
              "Country (or dependency)                                                     \n",
              "China                              153.0        9388211.0       -348399.0   \n",
              "India                              464.0        2973190.0       -532687.0   \n",
              "United States                       36.0        9147420.0        954806.0   \n",
              "Indonesia                          151.0        1811570.0        -98955.0   \n",
              "Pakistan                           287.0         770880.0       -233379.0   \n",
              "\n",
              "                         Fert. Rate  Med. Age  Urban Pop %  World Share %  \n",
              "Country (or dependency)                                                    \n",
              "China                           1.7      38.0         61.0          18.47  \n",
              "India                           2.2      28.0         35.0          17.70  \n",
              "United States                   1.8      38.0         83.0           4.25  \n",
              "Indonesia                       2.3      30.0         56.0           3.51  \n",
              "Pakistan                        3.6      23.0         35.0           2.83  "
            ],
            "text/html": [
              "\n",
              "  <div id=\"df-ed85fbf8-9616-4f14-ab63-8ad99e1a21e7\">\n",
              "    <div class=\"colab-df-container\">\n",
              "      <div>\n",
              "<style scoped>\n",
              "    .dataframe tbody tr th:only-of-type {\n",
              "        vertical-align: middle;\n",
              "    }\n",
              "\n",
              "    .dataframe tbody tr th {\n",
              "        vertical-align: top;\n",
              "    }\n",
              "\n",
              "    .dataframe thead th {\n",
              "        text-align: right;\n",
              "    }\n",
              "</style>\n",
              "<table border=\"1\" class=\"dataframe\">\n",
              "  <thead>\n",
              "    <tr style=\"text-align: right;\">\n",
              "      <th></th>\n",
              "      <th>Population (2020)</th>\n",
              "      <th>Yearly Change %</th>\n",
              "      <th>Net Change</th>\n",
              "      <th>Density (P/Km²)</th>\n",
              "      <th>Land Area (Km²)</th>\n",
              "      <th>Migrants (net)</th>\n",
              "      <th>Fert. Rate</th>\n",
              "      <th>Med. Age</th>\n",
              "      <th>Urban Pop %</th>\n",
              "      <th>World Share %</th>\n",
              "    </tr>\n",
              "    <tr>\n",
              "      <th>Country (or dependency)</th>\n",
              "      <th></th>\n",
              "      <th></th>\n",
              "      <th></th>\n",
              "      <th></th>\n",
              "      <th></th>\n",
              "      <th></th>\n",
              "      <th></th>\n",
              "      <th></th>\n",
              "      <th></th>\n",
              "      <th></th>\n",
              "    </tr>\n",
              "  </thead>\n",
              "  <tbody>\n",
              "    <tr>\n",
              "      <th>China</th>\n",
              "      <td>1439323776</td>\n",
              "      <td>0.39</td>\n",
              "      <td>5540090</td>\n",
              "      <td>153.0</td>\n",
              "      <td>9388211.0</td>\n",
              "      <td>-348399.0</td>\n",
              "      <td>1.7</td>\n",
              "      <td>38.0</td>\n",
              "      <td>61.0</td>\n",
              "      <td>18.47</td>\n",
              "    </tr>\n",
              "    <tr>\n",
              "      <th>India</th>\n",
              "      <td>1380004385</td>\n",
              "      <td>0.99</td>\n",
              "      <td>13586631</td>\n",
              "      <td>464.0</td>\n",
              "      <td>2973190.0</td>\n",
              "      <td>-532687.0</td>\n",
              "      <td>2.2</td>\n",
              "      <td>28.0</td>\n",
              "      <td>35.0</td>\n",
              "      <td>17.70</td>\n",
              "    </tr>\n",
              "    <tr>\n",
              "      <th>United States</th>\n",
              "      <td>331002651</td>\n",
              "      <td>0.59</td>\n",
              "      <td>1937734</td>\n",
              "      <td>36.0</td>\n",
              "      <td>9147420.0</td>\n",
              "      <td>954806.0</td>\n",
              "      <td>1.8</td>\n",
              "      <td>38.0</td>\n",
              "      <td>83.0</td>\n",
              "      <td>4.25</td>\n",
              "    </tr>\n",
              "    <tr>\n",
              "      <th>Indonesia</th>\n",
              "      <td>273523615</td>\n",
              "      <td>1.07</td>\n",
              "      <td>2898047</td>\n",
              "      <td>151.0</td>\n",
              "      <td>1811570.0</td>\n",
              "      <td>-98955.0</td>\n",
              "      <td>2.3</td>\n",
              "      <td>30.0</td>\n",
              "      <td>56.0</td>\n",
              "      <td>3.51</td>\n",
              "    </tr>\n",
              "    <tr>\n",
              "      <th>Pakistan</th>\n",
              "      <td>220892340</td>\n",
              "      <td>2.00</td>\n",
              "      <td>4327022</td>\n",
              "      <td>287.0</td>\n",
              "      <td>770880.0</td>\n",
              "      <td>-233379.0</td>\n",
              "      <td>3.6</td>\n",
              "      <td>23.0</td>\n",
              "      <td>35.0</td>\n",
              "      <td>2.83</td>\n",
              "    </tr>\n",
              "  </tbody>\n",
              "</table>\n",
              "</div>\n",
              "      <button class=\"colab-df-convert\" onclick=\"convertToInteractive('df-ed85fbf8-9616-4f14-ab63-8ad99e1a21e7')\"\n",
              "              title=\"Convert this dataframe to an interactive table.\"\n",
              "              style=\"display:none;\">\n",
              "        \n",
              "  <svg xmlns=\"http://www.w3.org/2000/svg\" height=\"24px\"viewBox=\"0 0 24 24\"\n",
              "       width=\"24px\">\n",
              "    <path d=\"M0 0h24v24H0V0z\" fill=\"none\"/>\n",
              "    <path d=\"M18.56 5.44l.94 2.06.94-2.06 2.06-.94-2.06-.94-.94-2.06-.94 2.06-2.06.94zm-11 1L8.5 8.5l.94-2.06 2.06-.94-2.06-.94L8.5 2.5l-.94 2.06-2.06.94zm10 10l.94 2.06.94-2.06 2.06-.94-2.06-.94-.94-2.06-.94 2.06-2.06.94z\"/><path d=\"M17.41 7.96l-1.37-1.37c-.4-.4-.92-.59-1.43-.59-.52 0-1.04.2-1.43.59L10.3 9.45l-7.72 7.72c-.78.78-.78 2.05 0 2.83L4 21.41c.39.39.9.59 1.41.59.51 0 1.02-.2 1.41-.59l7.78-7.78 2.81-2.81c.8-.78.8-2.07 0-2.86zM5.41 20L4 18.59l7.72-7.72 1.47 1.35L5.41 20z\"/>\n",
              "  </svg>\n",
              "      </button>\n",
              "      \n",
              "  <style>\n",
              "    .colab-df-container {\n",
              "      display:flex;\n",
              "      flex-wrap:wrap;\n",
              "      gap: 12px;\n",
              "    }\n",
              "\n",
              "    .colab-df-convert {\n",
              "      background-color: #E8F0FE;\n",
              "      border: none;\n",
              "      border-radius: 50%;\n",
              "      cursor: pointer;\n",
              "      display: none;\n",
              "      fill: #1967D2;\n",
              "      height: 32px;\n",
              "      padding: 0 0 0 0;\n",
              "      width: 32px;\n",
              "    }\n",
              "\n",
              "    .colab-df-convert:hover {\n",
              "      background-color: #E2EBFA;\n",
              "      box-shadow: 0px 1px 2px rgba(60, 64, 67, 0.3), 0px 1px 3px 1px rgba(60, 64, 67, 0.15);\n",
              "      fill: #174EA6;\n",
              "    }\n",
              "\n",
              "    [theme=dark] .colab-df-convert {\n",
              "      background-color: #3B4455;\n",
              "      fill: #D2E3FC;\n",
              "    }\n",
              "\n",
              "    [theme=dark] .colab-df-convert:hover {\n",
              "      background-color: #434B5C;\n",
              "      box-shadow: 0px 1px 3px 1px rgba(0, 0, 0, 0.15);\n",
              "      filter: drop-shadow(0px 1px 2px rgba(0, 0, 0, 0.3));\n",
              "      fill: #FFFFFF;\n",
              "    }\n",
              "  </style>\n",
              "\n",
              "      <script>\n",
              "        const buttonEl =\n",
              "          document.querySelector('#df-ed85fbf8-9616-4f14-ab63-8ad99e1a21e7 button.colab-df-convert');\n",
              "        buttonEl.style.display =\n",
              "          google.colab.kernel.accessAllowed ? 'block' : 'none';\n",
              "\n",
              "        async function convertToInteractive(key) {\n",
              "          const element = document.querySelector('#df-ed85fbf8-9616-4f14-ab63-8ad99e1a21e7');\n",
              "          const dataTable =\n",
              "            await google.colab.kernel.invokeFunction('convertToInteractive',\n",
              "                                                     [key], {});\n",
              "          if (!dataTable) return;\n",
              "\n",
              "          const docLinkHtml = 'Like what you see? Visit the ' +\n",
              "            '<a target=\"_blank\" href=https://colab.research.google.com/notebooks/data_table.ipynb>data table notebook</a>'\n",
              "            + ' to learn more about interactive tables.';\n",
              "          element.innerHTML = '';\n",
              "          dataTable['output_type'] = 'display_data';\n",
              "          await google.colab.output.renderOutput(dataTable, element);\n",
              "          const docLink = document.createElement('div');\n",
              "          docLink.innerHTML = docLinkHtml;\n",
              "          element.appendChild(docLink);\n",
              "        }\n",
              "      </script>\n",
              "    </div>\n",
              "  </div>\n",
              "  "
            ]
          },
          "metadata": {},
          "execution_count": 7
        }
      ],
      "source": [
        "# Mengambil 5 data teratas dan menyimpannya pada dataframe baru\n",
        "\n",
        "df_top5 = df.head(5)\n",
        "df_top5"
      ]
    },
    {
      "cell_type": "markdown",
      "metadata": {
        "id": "uEqZFONGTdro"
      },
      "source": [
        "Dataframe <code>df_top5</code> ini nantinya akan digunakan untuk membuat <i>waffle chart</i>."
      ]
    },
    {
      "cell_type": "markdown",
      "metadata": {
        "id": "FdI4pQhnTdrp"
      },
      "source": [
        "## Waffle Chart dengan Matplotlib"
      ]
    },
    {
      "cell_type": "markdown",
      "metadata": {
        "id": "zTGG-RK4Tdrq"
      },
      "source": [
        "Secara umum, langkah-langkah dalam membuat <i>waffle chart</i> dengan Matplotlib adalah sebagai berikut.\n",
        "\n",
        "1. Menentukan proporsi dari masing-masing kategori dengan membagi nilai dari tiap kategori tersebut dengan total nilai dari keseluruhan kategori.\n",
        "2. Mendefinisikan keseluruhan ukuran <i>waffle chart</i>.\n",
        "3. Menggunakan proporsi dari tiap kategori untuk menentukan jumlah kotak yang mewakili tiap kategori.\n",
        "4. Membuat matriks yang menyerupai <i>waffle chart</i> dan mengisinya.\n",
        "5. Memetakan matriks <i>waffle chart</i> ke dalam bentuk visual."
      ]
    },
    {
      "cell_type": "markdown",
      "metadata": {
        "id": "seNlP44HTdrr"
      },
      "source": [
        "__Langkah 1 -__ Menentukan proporsi dari masing-masing kategori."
      ]
    },
    {
      "cell_type": "code",
      "execution_count": 8,
      "metadata": {
        "colab": {
          "base_uri": "https://localhost:8080/"
        },
        "id": "G-jwdkyFTdrr",
        "outputId": "24bcc130-aa61-4cf0-84f1-0e5bafe20f36"
      },
      "outputs": [
        {
          "output_type": "stream",
          "name": "stdout",
          "text": [
            "China: 0.39490364297235137\n",
            "India: 0.3786283309158087\n",
            "United States: 0.0908163645268692\n",
            "Indonesia: 0.07504598604120252\n",
            "Pakistan: 0.06060567554376817\n"
          ]
        }
      ],
      "source": [
        "# Menghitung proporsi dari tiap kategori\n",
        "total = sum(df_top5['Population (2020)'])\n",
        "category_proportions = [(float(value) / total) for value in df_top5['Population (2020)']]\n",
        "\n",
        "# Menampilkan proporsi tiap kategori (negara)\n",
        "for i, prop in enumerate(category_proportions):\n",
        "    print (df_top5.index.values[i] + ': ' + str(prop))"
      ]
    },
    {
      "cell_type": "markdown",
      "metadata": {
        "id": "0D1hRO2fTdrs"
      },
      "source": [
        "Setelah mendapatkan proporsi dari masing-masing kategori atau dalam hal ini proporsi dari tiap negara, harus menentukan ukuran <i>waffle chart</i>\n",
        "\n",
        "__Langkah 2 -__ Mendefinisikan keseluruhan ukuran <i>waffle chart</i>."
      ]
    },
    {
      "cell_type": "code",
      "execution_count": 9,
      "metadata": {
        "colab": {
          "base_uri": "https://localhost:8080/"
        },
        "id": "zP5h1iiMTdrs",
        "outputId": "29b14b9f-1354-4ab8-9aa3-ba0d35818174"
      },
      "outputs": [
        {
          "output_type": "stream",
          "name": "stdout",
          "text": [
            "Total jumlah kotak :  675\n"
          ]
        }
      ],
      "source": [
        "width = 45       # lebar chart\n",
        "height = 15      # tinggi chart\n",
        "\n",
        "total_num_tiles = width * height   # jumlah total blok persegi\n",
        "\n",
        "print ('Total jumlah kotak : ', total_num_tiles)"
      ]
    },
    {
      "cell_type": "markdown",
      "metadata": {
        "id": "XrfvLZOpTdrt"
      },
      "source": [
        "__Langkah 3 -__ Menggunakan proporsi dari tiap kategori untuk menentukan jumlah kotak yang mewakili tiap kategori."
      ]
    },
    {
      "cell_type": "code",
      "execution_count": 10,
      "metadata": {
        "colab": {
          "base_uri": "https://localhost:8080/"
        },
        "id": "8aJx-slqTdrt",
        "outputId": "704c859f-e133-4aa4-8f62-823d9b003844"
      },
      "outputs": [
        {
          "output_type": "stream",
          "name": "stdout",
          "text": [
            "China: 267\n",
            "India: 256\n",
            "United States: 61\n",
            "Indonesia: 51\n",
            "Pakistan: 41\n"
          ]
        }
      ],
      "source": [
        "# Menghitung jumlah blok persegi untuk tiap kategori/negara\n",
        "tiles_per_category = [round(proportion * total_num_tiles) for proportion in category_proportions]\n",
        "\n",
        "# Menampilkan jumlah blok persegi per kategori/negara\n",
        "for i, tiles in enumerate(tiles_per_category):\n",
        "    print (df_top5.index.values[i] + ': ' + str(tiles))"
      ]
    },
    {
      "cell_type": "markdown",
      "metadata": {
        "id": "z26kR5hoTdrt"
      },
      "source": [
        "__Langkah 4 -__ Membuat matriks yang menyerupai <i>waffle chart</i> dan mengisinya."
      ]
    },
    {
      "cell_type": "code",
      "execution_count": 11,
      "metadata": {
        "id": "tlUeNXkoTdru"
      },
      "outputs": [],
      "source": [
        "# Menginisialisasi waffle chart sebagai matriks kosong\n",
        "waffle_chart = np.zeros((height, width))\n",
        "\n",
        "# Menentukan indeks awal untuk perulangan waffle chart\n",
        "category_index = 0\n",
        "tile_index = 0\n",
        "\n",
        "# Mengisi waffle chart\n",
        "for col in range(width):\n",
        "    for row in range(height):\n",
        "        tile_index += 1\n",
        "\n",
        "        # Jika jumlah blok persegi yang terisi untuk kategori yang sedang diproses sama dengan blok persegi yang dialokasikan..\n",
        "        if tile_index > sum(tiles_per_category[0:category_index]):\n",
        "            # ...lanjutkan proses ke kategori selanjutnya\n",
        "            category_index += 1       \n",
        "            \n",
        "        waffle_chart[row, col] = category_index"
      ]
    },
    {
      "cell_type": "markdown",
      "metadata": {
        "id": "Lbn1pUxTTdru"
      },
      "source": [
        "Tampilkan array <code>waffle_chart</code> yang terbentuk."
      ]
    },
    {
      "cell_type": "code",
      "execution_count": 12,
      "metadata": {
        "colab": {
          "base_uri": "https://localhost:8080/"
        },
        "id": "CmtFbGtgTdrv",
        "outputId": "706d4403-44f0-4eb7-b761-a73404b1f8b5"
      },
      "outputs": [
        {
          "output_type": "execute_result",
          "data": {
            "text/plain": [
              "array([[1., 1., 1., 1., 1., 1., 1., 1., 1., 1., 1., 1., 1., 1., 1., 1.,\n",
              "        1., 1., 2., 2., 2., 2., 2., 2., 2., 2., 2., 2., 2., 2., 2., 2.,\n",
              "        2., 2., 2., 3., 3., 3., 3., 4., 4., 4., 4., 5., 5.],\n",
              "       [1., 1., 1., 1., 1., 1., 1., 1., 1., 1., 1., 1., 1., 1., 1., 1.,\n",
              "        1., 1., 2., 2., 2., 2., 2., 2., 2., 2., 2., 2., 2., 2., 2., 2.,\n",
              "        2., 2., 2., 3., 3., 3., 3., 4., 4., 4., 4., 5., 5.],\n",
              "       [1., 1., 1., 1., 1., 1., 1., 1., 1., 1., 1., 1., 1., 1., 1., 1.,\n",
              "        1., 1., 2., 2., 2., 2., 2., 2., 2., 2., 2., 2., 2., 2., 2., 2.,\n",
              "        2., 2., 2., 3., 3., 3., 3., 4., 4., 4., 4., 5., 5.],\n",
              "       [1., 1., 1., 1., 1., 1., 1., 1., 1., 1., 1., 1., 1., 1., 1., 1.,\n",
              "        1., 1., 2., 2., 2., 2., 2., 2., 2., 2., 2., 2., 2., 2., 2., 2.,\n",
              "        2., 2., 2., 3., 3., 3., 3., 4., 4., 4., 4., 5., 5.],\n",
              "       [1., 1., 1., 1., 1., 1., 1., 1., 1., 1., 1., 1., 1., 1., 1., 1.,\n",
              "        1., 1., 2., 2., 2., 2., 2., 2., 2., 2., 2., 2., 2., 2., 2., 2.,\n",
              "        2., 2., 2., 3., 3., 3., 3., 4., 4., 4., 4., 5., 5.],\n",
              "       [1., 1., 1., 1., 1., 1., 1., 1., 1., 1., 1., 1., 1., 1., 1., 1.,\n",
              "        1., 1., 2., 2., 2., 2., 2., 2., 2., 2., 2., 2., 2., 2., 2., 2.,\n",
              "        2., 2., 2., 3., 3., 3., 3., 4., 4., 4., 5., 5., 5.],\n",
              "       [1., 1., 1., 1., 1., 1., 1., 1., 1., 1., 1., 1., 1., 1., 1., 1.,\n",
              "        1., 1., 2., 2., 2., 2., 2., 2., 2., 2., 2., 2., 2., 2., 2., 2.,\n",
              "        2., 2., 2., 3., 3., 3., 3., 4., 4., 4., 5., 5., 5.],\n",
              "       [1., 1., 1., 1., 1., 1., 1., 1., 1., 1., 1., 1., 1., 1., 1., 1.,\n",
              "        1., 1., 2., 2., 2., 2., 2., 2., 2., 2., 2., 2., 2., 2., 2., 2.,\n",
              "        2., 2., 2., 3., 3., 3., 3., 4., 4., 4., 5., 5., 5.],\n",
              "       [1., 1., 1., 1., 1., 1., 1., 1., 1., 1., 1., 1., 1., 1., 1., 1.,\n",
              "        1., 1., 2., 2., 2., 2., 2., 2., 2., 2., 2., 2., 2., 2., 2., 2.,\n",
              "        2., 2., 2., 3., 3., 3., 3., 4., 4., 4., 5., 5., 5.],\n",
              "       [1., 1., 1., 1., 1., 1., 1., 1., 1., 1., 1., 1., 1., 1., 1., 1.,\n",
              "        1., 1., 2., 2., 2., 2., 2., 2., 2., 2., 2., 2., 2., 2., 2., 2.,\n",
              "        2., 2., 2., 3., 3., 3., 3., 4., 4., 4., 5., 5., 5.],\n",
              "       [1., 1., 1., 1., 1., 1., 1., 1., 1., 1., 1., 1., 1., 1., 1., 1.,\n",
              "        1., 1., 2., 2., 2., 2., 2., 2., 2., 2., 2., 2., 2., 2., 2., 2.,\n",
              "        2., 2., 2., 3., 3., 3., 3., 4., 4., 4., 5., 5., 5.],\n",
              "       [1., 1., 1., 1., 1., 1., 1., 1., 1., 1., 1., 1., 1., 1., 1., 1.,\n",
              "        1., 1., 2., 2., 2., 2., 2., 2., 2., 2., 2., 2., 2., 2., 2., 2.,\n",
              "        2., 2., 2., 3., 3., 3., 3., 4., 4., 4., 5., 5., 5.],\n",
              "       [1., 1., 1., 1., 1., 1., 1., 1., 1., 1., 1., 1., 1., 1., 1., 1.,\n",
              "        1., 2., 2., 2., 2., 2., 2., 2., 2., 2., 2., 2., 2., 2., 2., 2.,\n",
              "        2., 2., 2., 3., 3., 3., 3., 4., 4., 4., 5., 5., 5.],\n",
              "       [1., 1., 1., 1., 1., 1., 1., 1., 1., 1., 1., 1., 1., 1., 1., 1.,\n",
              "        1., 2., 2., 2., 2., 2., 2., 2., 2., 2., 2., 2., 2., 2., 2., 2.,\n",
              "        2., 2., 3., 3., 3., 3., 3., 4., 4., 4., 5., 5., 5.],\n",
              "       [1., 1., 1., 1., 1., 1., 1., 1., 1., 1., 1., 1., 1., 1., 1., 1.,\n",
              "        1., 2., 2., 2., 2., 2., 2., 2., 2., 2., 2., 2., 2., 2., 2., 2.,\n",
              "        2., 2., 3., 3., 3., 3., 4., 4., 4., 4., 5., 5., 5.]])"
            ]
          },
          "metadata": {},
          "execution_count": 12
        }
      ],
      "source": [
        "# Menampilkan array yang terbentuk\n",
        "\n",
        "waffle_chart"
      ]
    },
    {
      "cell_type": "markdown",
      "metadata": {
        "id": "dFZ1wk0xTdrv"
      },
      "source": [
        "__Langkah 5 -__ Memetakan matriks <i>waffle chart</i> ke dalam bentuk visual.\n",
        "\n",
        "Di Matplotlib, gunakan <i>method</i> <code>matshow()</code> untuk menampilkan <i>waffle chart</i>."
      ]
    },
    {
      "cell_type": "code",
      "execution_count": 13,
      "metadata": {
        "colab": {
          "base_uri": "https://localhost:8080/",
          "height": 299
        },
        "id": "Uf1JWVrETdrw",
        "outputId": "b14afc9a-4224-4c25-da86-06751d9121db"
      },
      "outputs": [
        {
          "output_type": "execute_result",
          "data": {
            "text/plain": [
              "<matplotlib.colorbar.Colorbar at 0x7f924903dc10>"
            ]
          },
          "metadata": {},
          "execution_count": 13
        },
        {
          "output_type": "display_data",
          "data": {
            "text/plain": [
              "<Figure size 432x288 with 0 Axes>"
            ]
          },
          "metadata": {}
        },
        {
          "output_type": "display_data",
          "data": {
            "text/plain": [
              "<Figure size 864x288 with 2 Axes>"
            ],
            "image/png": "[encoded data removed]"
          },
          "metadata": {
            "needs_background": "light"
          }
        }
      ],
      "source": [
        "# Membuat objek figure\n",
        "fig = plt.figure()\n",
        "\n",
        "# Menampilkan waffle chart dengan matshow()\n",
        "colormap = plt.cm.coolwarm\n",
        "plt.matshow(waffle_chart, cmap=colormap)\n",
        "plt.colorbar()"
      ]
    },
    {
      "cell_type": "markdown",
      "metadata": {
        "id": "TfdSAGU-Tdrw"
      },
      "source": [
        "Setelah <i>waffle chart</i> terbentuk, sekarang saatnya mempercantik tampilannya dengan mengaplikasikan beberapa pengaturan seperti menambahkan <i>grid lines</i> dan menambahkan legend."
      ]
    },
    {
      "cell_type": "markdown",
      "metadata": {
        "id": "F3r3BEK1Tdrx"
      },
      "source": [
        "### Menambahkan grid lines"
      ]
    },
    {
      "cell_type": "markdown",
      "metadata": {
        "id": "oHkhxWS7Tdrx"
      },
      "source": [
        "Untuk menambahkan <i>grid lines</i> pada <i>waffle chart</i>, harus mendapatkan <i>axes</i> saat ini atau yang sedang kita kerjakan untuk membuat <i>waffle chart</i> tersebut dengan menggunakan <i>method</i> <code>gca()</code> <i>(get current axes)</i>. Kemudian pada <i>axes</i> tersebut kita atur <i>minor ticks</i>-nya, baru setelah itu tambahkan <i>gridlines</i> berdasarkan <i>minor ticks</i>."
      ]
    },
    {
      "cell_type": "code",
      "execution_count": 14,
      "metadata": {
        "colab": {
          "base_uri": "https://localhost:8080/",
          "height": 281
        },
        "id": "TYDiuad3Tdrx",
        "outputId": "4f78f81d-979c-413b-f5ff-3d31d481d979"
      },
      "outputs": [
        {
          "output_type": "display_data",
          "data": {
            "text/plain": [
              "<Figure size 432x288 with 0 Axes>"
            ]
          },
          "metadata": {}
        },
        {
          "output_type": "display_data",
          "data": {
            "text/plain": [
              "<Figure size 864x288 with 2 Axes>"
            ],
            "image/png": "[encoded data removed]"
          },
          "metadata": {
            "needs_background": "light"
          }
        }
      ],
      "source": [
        "# Membuat objek figure\n",
        "fig = plt.figure()\n",
        "\n",
        "# Menampilkan waffle chart dengan matshow()\n",
        "colormap = plt.cm.coolwarm\n",
        "plt.matshow(waffle_chart, cmap=colormap)\n",
        "plt.colorbar()\n",
        "\n",
        "# Mendapatkan axes (get current axes)\n",
        "ax = plt.gca()\n",
        "\n",
        "# Mengatur minor ticks\n",
        "ax.set_xticks(np.arange(-.5, (width), 1), minor=True)\n",
        "ax.set_yticks(np.arange(-.5, (height), 1), minor=True)\n",
        "    \n",
        "# Menambahkan gridlines berdasarkan minor ticks\n",
        "ax.grid(which='minor', color='w', linestyle='-', linewidth=2)\n",
        "\n",
        "plt.xticks([])\n",
        "plt.yticks([])\n",
        "\n",
        "plt.show()"
      ]
    },
    {
      "cell_type": "markdown",
      "metadata": {
        "id": "RMIiuKN4Tdry"
      },
      "source": [
        "### Menambahkan legend"
      ]
    },
    {
      "cell_type": "markdown",
      "metadata": {
        "id": "TnhP874GTdry"
      },
      "source": [
        "Untuk menambahkan legend, perlu menghitung jumlah kumulatif dari kategori individu untuk menyesuaikan skema warna antara chart dan legend. Setelah itu, buat legend dan menambahkannya ke <i>chart</i>. Perhatikan kode berikut."
      ]
    },
    {
      "cell_type": "code",
      "execution_count": 15,
      "metadata": {
        "colab": {
          "base_uri": "https://localhost:8080/",
          "height": 301
        },
        "id": "Da-fbxR_Tdry",
        "outputId": "bea32186-1ca2-4998-e8cf-d0f4026c4342"
      },
      "outputs": [
        {
          "output_type": "display_data",
          "data": {
            "text/plain": [
              "<Figure size 432x288 with 0 Axes>"
            ]
          },
          "metadata": {}
        },
        {
          "output_type": "display_data",
          "data": {
            "text/plain": [
              "<Figure size 864x288 with 2 Axes>"
            ],
            "image/png": "[encoded data removed]"
          },
          "metadata": {
            "needs_background": "light"
          }
        }
      ],
      "source": [
        "# Membuat objek figure\n",
        "fig = plt.figure()\n",
        "\n",
        "# Menampilkan waffle chart dengan matshow()\n",
        "colormap = plt.cm.coolwarm\n",
        "plt.matshow(waffle_chart, cmap=colormap)\n",
        "plt.colorbar()\n",
        "\n",
        "# Menadapatkan axis\n",
        "ax = plt.gca()\n",
        "\n",
        "# Mengatur minor ticks\n",
        "ax.set_xticks(np.arange(-.5, (width), 1), minor=True)\n",
        "ax.set_yticks(np.arange(-.5, (height), 1), minor=True)\n",
        "    \n",
        "# Menambahkan gridlines berdasarkan minor ticks\n",
        "ax.grid(which='minor', color='w', linestyle='-', linewidth=2)\n",
        "\n",
        "plt.xticks([])\n",
        "plt.yticks([])\n",
        "\n",
        "# Menghitung jumlah kumulatif kategori individu untuk menyesuaikan skema warna antara chart dan legend\n",
        "values_cumsum = np.cumsum(df_top5['Population (2020)'])\n",
        "total_values = values_cumsum[len(values_cumsum) - 1]\n",
        "\n",
        "# Membuat legend\n",
        "legend_handles = []\n",
        "for i, category in enumerate(df_top5.index.values):\n",
        "    label_str = category + ' (' + str(df_top5['Population (2020)'][i]) + ')'\n",
        "    color_val = colormap(float(values_cumsum[i])/total_values)\n",
        "    legend_handles.append(mpatches.Patch(color=color_val, label=label_str))\n",
        "\n",
        "# Menambahkan legend ke chart\n",
        "plt.legend(handles=legend_handles,\n",
        "           loc='lower center', \n",
        "           ncol=len(df_top5.index.values),\n",
        "           bbox_to_anchor=(0., -0.3, 1, .1)\n",
        "          )\n",
        "plt.show()"
      ]
    },
    {
      "cell_type": "markdown",
      "metadata": {
        "id": "DuIOYiCYTdrz"
      },
      "source": [
        "Pembuatan <i>waffle chart</i> dengan menggunakan Matplotlib terbilang rumit, dan hasilnya juga terkadang kurang memuaskan. Ada satu <i>package</i> dari Python yang khusus digunakan untuk membuat <i>waffle chart</i>, yaitu __PyWaffle__. Untuk lebih jelasnya langsung saja lihat pembahasan berikut."
      ]
    },
    {
      "cell_type": "markdown",
      "metadata": {
        "id": "9B34FPcITdr0"
      },
      "source": [
        "## Waffle Chart dengan PyWaffle"
      ]
    },
    {
      "cell_type": "markdown",
      "metadata": {
        "id": "4cdWlwfGTdr0"
      },
      "source": [
        "__PyWaffle__ adalah <i>package</i> Python yang dikhususkan untuk membuat <i>waffle chart</i>. Dengan menggunakan PyWaffle, sangat mudah men-<i>generate</i>- <i>waffle chart</i> serta melakukan modifikasi-modifikasi untuk memperindah tampilan sesuai yang dinginkan. Untuk lebih detailnya silahkan lihat dokumentasi <a href='https://pywaffle.readthedocs.io/en/latest/'>PyWaffle</a>\n",
        "\n",
        "install terlebih dahulu PyWaffle dengan menjalankan kode di bawah ini."
      ]
    },
    {
      "cell_type": "code",
      "execution_count": 16,
      "metadata": {
        "colab": {
          "base_uri": "https://localhost:8080/"
        },
        "id": "01MS5qSoTdr1",
        "outputId": "e7fbeba0-004f-4142-aba2-ed41d651afa6"
      },
      "outputs": [
        {
          "output_type": "stream",
          "name": "stdout",
          "text": [
            "Collecting pywaffle\n",
            "  Downloading pywaffle-0.6.4-py2.py3-none-any.whl (565 kB)\n",
            "\u001b[?25l\r\u001b[K     |▋                               | 10 kB 15.4 MB/s eta 0:00:01\r\u001b[K     |█▏                              | 20 kB 11.4 MB/s eta 0:00:01\r\u001b[K     |█▊                              | 30 kB 8.4 MB/s eta 0:00:01\r\u001b[K     |██▎                             | 40 kB 3.6 MB/s eta 0:00:01\r\u001b[K     |███                             | 51 kB 3.6 MB/s eta 0:00:01\r\u001b[K     |███▌                            | 61 kB 4.3 MB/s eta 0:00:01\r\u001b[K     |████                            | 71 kB 4.5 MB/s eta 0:00:01\r\u001b[K     |████▋                           | 81 kB 4.1 MB/s eta 0:00:01\r\u001b[K     |█████▏                          | 92 kB 4.5 MB/s eta 0:00:01\r\u001b[K     |█████▉                          | 102 kB 4.3 MB/s eta 0:00:01\r\u001b[K     |██████▍                         | 112 kB 4.3 MB/s eta 0:00:01\r\u001b[K     |███████                         | 122 kB 4.3 MB/s eta 0:00:01\r\u001b[K     |███████▌                        | 133 kB 4.3 MB/s eta 0:00:01\r\u001b[K     |████████                        | 143 kB 4.3 MB/s eta 0:00:01\r\u001b[K     |████████▊                       | 153 kB 4.3 MB/s eta 0:00:01\r\u001b[K     |█████████▎                      | 163 kB 4.3 MB/s eta 0:00:01\r\u001b[K     |█████████▉                      | 174 kB 4.3 MB/s eta 0:00:01\r\u001b[K     |██████████▍                     | 184 kB 4.3 MB/s eta 0:00:01\r\u001b[K     |███████████                     | 194 kB 4.3 MB/s eta 0:00:01\r\u001b[K     |███████████▋                    | 204 kB 4.3 MB/s eta 0:00:01\r\u001b[K     |████████████▏                   | 215 kB 4.3 MB/s eta 0:00:01\r\u001b[K     |████████████▊                   | 225 kB 4.3 MB/s eta 0:00:01\r\u001b[K     |█████████████▎                  | 235 kB 4.3 MB/s eta 0:00:01\r\u001b[K     |██████████████                  | 245 kB 4.3 MB/s eta 0:00:01\r\u001b[K     |██████████████▌                 | 256 kB 4.3 MB/s eta 0:00:01\r\u001b[K     |███████████████                 | 266 kB 4.3 MB/s eta 0:00:01\r\u001b[K     |███████████████▋                | 276 kB 4.3 MB/s eta 0:00:01\r\u001b[K     |████████████████▏               | 286 kB 4.3 MB/s eta 0:00:01\r\u001b[K     |████████████████▉               | 296 kB 4.3 MB/s eta 0:00:01\r\u001b[K     |█████████████████▍              | 307 kB 4.3 MB/s eta 0:00:01\r\u001b[K     |██████████████████              | 317 kB 4.3 MB/s eta 0:00:01\r\u001b[K     |██████████████████▌             | 327 kB 4.3 MB/s eta 0:00:01\r\u001b[K     |███████████████████             | 337 kB 4.3 MB/s eta 0:00:01\r\u001b[K     |███████████████████▊            | 348 kB 4.3 MB/s eta 0:00:01\r\u001b[K     |████████████████████▎           | 358 kB 4.3 MB/s eta 0:00:01\r\u001b[K     |████████████████████▉           | 368 kB 4.3 MB/s eta 0:00:01\r\u001b[K     |█████████████████████▍          | 378 kB 4.3 MB/s eta 0:00:01\r\u001b[K     |██████████████████████          | 389 kB 4.3 MB/s eta 0:00:01\r\u001b[K     |██████████████████████▋         | 399 kB 4.3 MB/s eta 0:00:01\r\u001b[K     |███████████████████████▏        | 409 kB 4.3 MB/s eta 0:00:01\r\u001b[K     |███████████████████████▊        | 419 kB 4.3 MB/s eta 0:00:01\r\u001b[K     |████████████████████████▎       | 430 kB 4.3 MB/s eta 0:00:01\r\u001b[K     |█████████████████████████       | 440 kB 4.3 MB/s eta 0:00:01\r\u001b[K     |█████████████████████████▌      | 450 kB 4.3 MB/s eta 0:00:01\r\u001b[K     |██████████████████████████      | 460 kB 4.3 MB/s eta 0:00:01\r\u001b[K     |██████████████████████████▋     | 471 kB 4.3 MB/s eta 0:00:01\r\u001b[K     |███████████████████████████▏    | 481 kB 4.3 MB/s eta 0:00:01\r\u001b[K     |███████████████████████████▉    | 491 kB 4.3 MB/s eta 0:00:01\r\u001b[K     |████████████████████████████▍   | 501 kB 4.3 MB/s eta 0:00:01\r\u001b[K     |█████████████████████████████   | 512 kB 4.3 MB/s eta 0:00:01\r\u001b[K     |█████████████████████████████▌  | 522 kB 4.3 MB/s eta 0:00:01\r\u001b[K     |██████████████████████████████▏ | 532 kB 4.3 MB/s eta 0:00:01\r\u001b[K     |██████████████████████████████▊ | 542 kB 4.3 MB/s eta 0:00:01\r\u001b[K     |███████████████████████████████▎| 552 kB 4.3 MB/s eta 0:00:01\r\u001b[K     |███████████████████████████████▉| 563 kB 4.3 MB/s eta 0:00:01\r\u001b[K     |████████████████████████████████| 565 kB 4.3 MB/s \n",
            "\u001b[?25hRequirement already satisfied: matplotlib in /usr/local/lib/python3.7/dist-packages (from pywaffle) (3.2.2)\n",
            "Requirement already satisfied: kiwisolver>=1.0.1 in /usr/local/lib/python3.7/dist-packages (from matplotlib->pywaffle) (1.4.2)\n",
            "Requirement already satisfied: cycler>=0.10 in /usr/local/lib/python3.7/dist-packages (from matplotlib->pywaffle) (0.11.0)\n",
            "Requirement already satisfied: python-dateutil>=2.1 in /usr/local/lib/python3.7/dist-packages (from matplotlib->pywaffle) (2.8.2)\n",
            "Requirement already satisfied: numpy>=1.11 in /usr/local/lib/python3.7/dist-packages (from matplotlib->pywaffle) (1.21.6)\n",
            "Requirement already satisfied: pyparsing!=2.0.4,!=2.1.2,!=2.1.6,>=2.0.1 in /usr/local/lib/python3.7/dist-packages (from matplotlib->pywaffle) (3.0.8)\n",
            "Requirement already satisfied: typing-extensions in /usr/local/lib/python3.7/dist-packages (from kiwisolver>=1.0.1->matplotlib->pywaffle) (4.1.1)\n",
            "Requirement already satisfied: six>=1.5 in /usr/local/lib/python3.7/dist-packages (from python-dateutil>=2.1->matplotlib->pywaffle) (1.15.0)\n",
            "Installing collected packages: pywaffle\n",
            "Successfully installed pywaffle-0.6.4\n"
          ]
        }
      ],
      "source": [
        "pip install pywaffle"
      ]
    },
    {
      "cell_type": "markdown",
      "metadata": {
        "id": "FlvJEUI8Tdr1"
      },
      "source": [
        "Selanjutnya, dari <i>package</i> PyWaffle <i>import</i> __Waffle__."
      ]
    },
    {
      "cell_type": "code",
      "execution_count": 17,
      "metadata": {
        "id": "t4nfJJOyTdr2"
      },
      "outputs": [],
      "source": [
        "# Import Waffle\n",
        "\n",
        "from pywaffle import Waffle"
      ]
    },
    {
      "cell_type": "markdown",
      "metadata": {
        "id": "JkfYLFpkTdr2"
      },
      "source": [
        "Membuat visualisasi data jenis <i>waffle chart</i> dengan mendefinisikan <code>FigureClass = Waffle</code> seperti di bawah ini."
      ]
    },
    {
      "cell_type": "code",
      "execution_count": 18,
      "metadata": {
        "colab": {
          "base_uri": "https://localhost:8080/",
          "height": 310
        },
        "id": "xehjdGDLTdr2",
        "outputId": "1f7a4a30-98dd-4fdb-ab02-7724acb2f0b6"
      },
      "outputs": [
        {
          "output_type": "display_data",
          "data": {
            "text/plain": [
              "<Waffle size 864x576 with 1 Axes>"
            ],
            "image/png": "[encoded data removed]"
          },
          "metadata": {
            "needs_background": "light"
          }
        }
      ],
      "source": [
        "# Membuat waffle chart dengan PyWaffle\n",
        "\n",
        "fig = plt.figure(\n",
        "    FigureClass=Waffle, \n",
        "    rows=15, \n",
        "    columns=45,\n",
        "    values=tiles_per_category,\n",
        "    labels=list(df_top5.index.values),\n",
        "    figsize=(12, 8),\n",
        "    legend={'bbox_to_anchor': (0.15, 0.4)}    \n",
        ")"
      ]
    },
    {
      "cell_type": "markdown",
      "metadata": {
        "id": "zHBCKnLbTdr3"
      },
      "source": [
        "Dari kode di atas, harus menentukan \n",
        "\n",
        "* <code>rows</code> : Jumlah baris yang diinginkan.\n",
        "* <code>columns</code> : Jumlah kolom yang diinginkan.\n",
        "* <code>values</code> : Nilai dari <i>waffle chart</i>, dalam hal ini nilainya adalah <code>tiles_per_category</code> yang sudah dibuat sebelumnya.\n",
        "* <code>labels</code> : Label yang akan ditampilkan pada legend, dalam hal ini adalah nama negara yang merupakan indeks dari <code>df_top5</code>.\n",
        "* <code>figsize</code> : Ukuran <i>figure</i>.\n",
        "* <code>legend</code> : Untuk menampilkan legend, dimana <code>bbox_to_anchor</code> adalah untuk mengatur posisinya."
      ]
    },
    {
      "cell_type": "markdown",
      "metadata": {
        "id": "3QpPbPWJTdr3"
      },
      "source": [
        "### Mengatur legend dan warna "
      ]
    },
    {
      "cell_type": "markdown",
      "metadata": {
        "id": "d3EUYeqTTdr3"
      },
      "source": [
        "<i>Default</i>-nya legend akan ditampilkan seperti output di atas. Namun, juga dapat mengaturnya menjadi berbentuk memanjang dengan mendefinisikan <code>ncol</code>. Selain itu juga dapat mengatur ukuran huruf dengan <code>fontsize</code> dan lokasinya dengan <code>loc</code>. Perhatikan kode berikut."
      ]
    },
    {
      "cell_type": "code",
      "execution_count": 19,
      "metadata": {
        "colab": {
          "base_uri": "https://localhost:8080/",
          "height": 358
        },
        "id": "Llo-ZeTJTdr4",
        "outputId": "664157f6-9fef-4128-be99-fdee075a62c9"
      },
      "outputs": [
        {
          "output_type": "display_data",
          "data": {
            "text/plain": [
              "<Waffle size 864x576 with 1 Axes>"
            ],
            "image/png": "[encoded data removed]"
          },
          "metadata": {
            "needs_background": "light"
          }
        }
      ],
      "source": [
        "# Membuat waffle chart dengan PyWaffle\n",
        "\n",
        "fig = plt.figure(\n",
        "    FigureClass=Waffle, \n",
        "    rows=15,\n",
        "    columns=45,\n",
        "    cmap_name='Paired',\n",
        "    values=tiles_per_category,\n",
        "    labels=list(df_top5.index.values),\n",
        "    figsize=(12, 8),\n",
        "    legend={'bbox_to_anchor': (0, -0.2), \n",
        "            'loc': 'lower left', \n",
        "            'ncol': len(df_top5.index.values),\n",
        "            'fontsize': 14}    \n",
        ")"
      ]
    },
    {
      "cell_type": "markdown",
      "metadata": {
        "id": "vHSyX0nyTdr4"
      },
      "source": [
        "### Menambahkan judul"
      ]
    },
    {
      "cell_type": "code",
      "execution_count": 20,
      "metadata": {
        "colab": {
          "base_uri": "https://localhost:8080/",
          "height": 401
        },
        "id": "FW0NxhDUTdr5",
        "outputId": "9d974bc6-3cd6-407e-e654-86bd1e95a849"
      },
      "outputs": [
        {
          "output_type": "display_data",
          "data": {
            "text/plain": [
              "<Waffle size 864x576 with 1 Axes>"
            ],
            "image/png": "[encoded data removed]"
          },
          "metadata": {
            "needs_background": "light"
          }
        }
      ],
      "source": [
        "# Membuat waffle chart dengan PyWaffle\n",
        "\n",
        "fig = plt.figure(\n",
        "    FigureClass=Waffle, \n",
        "    rows=15,\n",
        "    columns=45,\n",
        "    cmap_name='Paired',\n",
        "    values=tiles_per_category,\n",
        "    labels=list(df_top5.index.values),\n",
        "    figsize=(12, 8),\n",
        "    legend={'bbox_to_anchor': (0, -0.2), \n",
        "            'loc': 'lower left', \n",
        "            'ncol': len(df_top5.index.values),\n",
        "            'fontsize': 14},\n",
        "    title={'label': \"Top 5 World's Population\\n\",\n",
        "          'loc': 'center',\n",
        "          'fontdict': {'fontsize': 20}}\n",
        ")"
      ]
    },
    {
      "cell_type": "markdown",
      "metadata": {
        "id": "HBFvk0zJTdr6"
      },
      "source": [
        "### Mengatur jarak blok"
      ]
    },
    {
      "cell_type": "markdown",
      "metadata": {
        "id": "TFu93rpfTdr6"
      },
      "source": [
        "PyWaffle membuat modifikasi <i>waffle chart</i> menjadi lebih mudah. Dengan membuat <i>waffle chart</i> dengan PyWaffle, atur jarak antar blok atau kotaknya dengan menambahkan parameter berikut:\n",
        "\n",
        "* <code>interval_ratio_x</code> : Untuk mengatur jarak antar kotak di sumbu X, atau jarak kanan dan kirinya.\n",
        "* <code>interval_ratio_y</code> : Untuk mengatur jarak antar kotak di sumbu Y, atau jarak atas dan bawahnya."
      ]
    },
    {
      "cell_type": "code",
      "execution_count": 21,
      "metadata": {
        "colab": {
          "base_uri": "https://localhost:8080/",
          "height": 317
        },
        "id": "rq-3E0rBTdr7",
        "outputId": "933364b8-aa19-40cd-fc29-f700db701377"
      },
      "outputs": [
        {
          "output_type": "display_data",
          "data": {
            "text/plain": [
              "<Waffle size 864x576 with 1 Axes>"
            ],
            "image/png": "[encoded data removed]"
          },
          "metadata": {
            "needs_background": "light"
          }
        }
      ],
      "source": [
        "# Membuat waffle chart dengan PyWaffle\n",
        "\n",
        "fig = plt.figure(\n",
        "    FigureClass=Waffle, \n",
        "    rows=15,\n",
        "    columns=45,\n",
        "    cmap_name='Paired',\n",
        "    values=tiles_per_category,\n",
        "    labels=list(df_top5.index.values),\n",
        "    figsize=(12, 8),\n",
        "    legend={'bbox_to_anchor': (0, -0.2), \n",
        "            'loc': 'lower left', \n",
        "            'ncol': len(df_top5.index.values),\n",
        "            'fontsize': 14},\n",
        "    title={'label': \"Top 5 World's Population\\n\",\n",
        "          'loc': 'center',\n",
        "          'fontdict': {'fontsize': 20}},\n",
        "    interval_ratio_x=1,\n",
        "    interval_ratio_y=0.5\n",
        ")"
      ]
    },
    {
      "cell_type": "markdown",
      "metadata": {
        "id": "rOsnX8KnTdr7"
      },
      "source": [
        "### Mengganti blok persegi dengan karakter dan icon"
      ]
    },
    {
      "cell_type": "markdown",
      "metadata": {
        "id": "HPmSR_EKTdr8"
      },
      "source": [
        "Selanjutnya, yang menarik dari PyWaffle adalah dapat mengganti blok atau kotak-kotak tersebut dengan karakter atau <i>icon</i> seperti bentuk bulat, bintang, matahari, bulan, dan sebagainya. \n",
        "\n",
        "Misal menggunakan karakter berbentuk bulat dengan menambahkan parameter <code>characters</code> dan diberikan nilai berupa bentuk bulat atau yang diinginkan."
      ]
    },
    {
      "cell_type": "code",
      "execution_count": 22,
      "metadata": {
        "colab": {
          "base_uri": "https://localhost:8080/",
          "height": 401
        },
        "id": "UuAvWQOtTdr9",
        "outputId": "6c1d34c6-3b92-4d20-8618-56988fae2df1"
      },
      "outputs": [
        {
          "output_type": "display_data",
          "data": {
            "text/plain": [
              "<Waffle size 864x576 with 1 Axes>"
            ],
            "image/png": "[encoded data removed]"
          },
          "metadata": {
            "needs_background": "light"
          }
        }
      ],
      "source": [
        "# Membuat waffle chart dengan PyWaffle\n",
        "\n",
        "fig = plt.figure(\n",
        "    FigureClass=Waffle, \n",
        "    rows=15,\n",
        "    columns=45,\n",
        "    cmap_name='Paired',\n",
        "    values=tiles_per_category,\n",
        "    labels=list(df_top5.index.values),\n",
        "    figsize=(12, 8),\n",
        "    legend={'bbox_to_anchor': (0, -0.2), \n",
        "            'loc': 'lower left', \n",
        "            'ncol': len(df_top5.index.values),\n",
        "            'fontsize': 14},\n",
        "    title={'label': \"Top 5 World's Population\\n\",\n",
        "          'loc': 'center',\n",
        "          'fontdict': {'fontsize': 20}},\n",
        "    characters='⬤',\n",
        "    font_size=14\n",
        ")"
      ]
    },
    {
      "cell_type": "markdown",
      "metadata": {
        "id": "vw6zKjaMTdr-"
      },
      "source": [
        "Menggunakan parameter <code>icons</code> dan diberikan nilai berupa nama <i>icon</i> yang diinginkan. \n",
        "\n",
        "Beri parameter <code>icons = 'star'</code> untuk mengganti kotak dengan <i>icon</i> bintang."
      ]
    },
    {
      "cell_type": "code",
      "execution_count": 23,
      "metadata": {
        "colab": {
          "base_uri": "https://localhost:8080/",
          "height": 401
        },
        "id": "qC4k_r8aTdr_",
        "outputId": "46918fe7-3135-49c8-f242-c1d167ccc8bd"
      },
      "outputs": [
        {
          "output_type": "display_data",
          "data": {
            "text/plain": [
              "<Waffle size 864x576 with 1 Axes>"
            ],
            "image/png": "[encoded data removed]"
          },
          "metadata": {
            "needs_background": "light"
          }
        }
      ],
      "source": [
        "# Membuat waffle chart dengan PyWaffle\n",
        "\n",
        "fig = plt.figure(\n",
        "    FigureClass=Waffle, \n",
        "    rows=15,\n",
        "    columns=45,\n",
        "    cmap_name='Paired',\n",
        "    values=tiles_per_category,\n",
        "    labels=list(df_top5.index.values),\n",
        "    figsize=(12, 8),\n",
        "    legend={'bbox_to_anchor': (0, -0.2), \n",
        "            'loc': 'lower left', \n",
        "            'ncol': len(df_top5.index.values),\n",
        "            'fontsize': 14},\n",
        "    title={'label': \"Top 5 World's Population\\n\",\n",
        "          'loc': 'center',\n",
        "          'fontdict': {'fontsize': 20}},\n",
        "    icons='star',\n",
        "    font_size=14\n",
        ")"
      ]
    },
    {
      "cell_type": "markdown",
      "metadata": {
        "id": "2k7Hpw5YTdr_"
      },
      "source": [
        "Jika ingin <i>icon</i> untuk tiap kategori adalah bentuk yang berbeda, maka hanya perlu mendefinisikannya dalam bentuk list. berikan parameter <code>icon_legend = True</code> agar legend menampilkan <i>icon</i> yang sesuai untuk tiap kategori. Perhatikan kode di bawah ini."
      ]
    },
    {
      "cell_type": "code",
      "execution_count": 24,
      "metadata": {
        "colab": {
          "base_uri": "https://localhost:8080/",
          "height": 401
        },
        "id": "QMA5Uji8Tdr_",
        "outputId": "10ec0cb5-6a47-4ffa-bb6e-0ef81921629a"
      },
      "outputs": [
        {
          "output_type": "display_data",
          "data": {
            "text/plain": [
              "<Waffle size 864x576 with 1 Axes>"
            ],
            "image/png": "[encoded data removed]"
          },
          "metadata": {
            "needs_background": "light"
          }
        }
      ],
      "source": [
        "# Membuat waffle chart dengan bentuk icon berbeda untuk tiap kategori\n",
        "\n",
        "fig = plt.figure(\n",
        "    FigureClass=Waffle, \n",
        "    rows=15,\n",
        "    columns=45,\n",
        "    cmap_name='Paired',\n",
        "    values=tiles_per_category,\n",
        "    labels=list(df_top5.index.values),\n",
        "    figsize=(12, 8),\n",
        "    legend={'bbox_to_anchor': (0, -0.2), \n",
        "            'loc': 'lower left', \n",
        "            'ncol': len(df_top5.index.values),\n",
        "            'fontsize': 14},\n",
        "    title={'label': \"Top 5 World's Population\\n\",\n",
        "          'loc': 'center',\n",
        "          'fontdict': {'fontsize': 20}},\n",
        "    icons=['star', 'sun', 'cloud-showers-heavy', 'snowflake', 'moon'],\n",
        "    icon_size=14,\n",
        "    icon_legend=True\n",
        ")"
      ]
    },
    {
      "cell_type": "markdown",
      "metadata": {
        "id": "qdWSEVX-TdsA"
      },
      "source": [
        "### Vertical Waffle Chart"
      ]
    },
    {
      "cell_type": "markdown",
      "metadata": {
        "id": "prX-oFP8TdsA"
      },
      "source": [
        "Menampilkan <i>waffle chart</i> dalam bentuk vertikal, tambahkan parameter <code>vertical = True</code>. Perhatikan kode berikut."
      ]
    },
    {
      "cell_type": "code",
      "execution_count": 25,
      "metadata": {
        "colab": {
          "base_uri": "https://localhost:8080/",
          "height": 401
        },
        "id": "Ry_dzFWmTdsA",
        "outputId": "40eea1fb-4d7e-45cf-d15c-150fbbb774f1"
      },
      "outputs": [
        {
          "output_type": "display_data",
          "data": {
            "text/plain": [
              "<Waffle size 864x576 with 1 Axes>"
            ],
            "image/png": "[encoded data removed]"
          },
          "metadata": {
            "needs_background": "light"
          }
        }
      ],
      "source": [
        "fig = plt.figure(\n",
        "    FigureClass=Waffle, \n",
        "    rows=15,\n",
        "    columns=45,\n",
        "    cmap_name='Paired',\n",
        "    values=tiles_per_category,\n",
        "    labels=list(df_top5.index.values),\n",
        "    figsize=(12, 8),\n",
        "    legend={'bbox_to_anchor': (0, -0.2), \n",
        "            'loc': 'lower left', \n",
        "            'ncol': len(df_top5.index.values),\n",
        "            'fontsize': 14},\n",
        "    title={'label': \"Top 5 World's Population\\n\",\n",
        "          'loc': 'center',\n",
        "          'fontdict': {'fontsize': 20}},\n",
        "    icons='star',\n",
        "    icon_size=15,\n",
        "    icon_legend=True,\n",
        "    vertical=True\n",
        ")"
      ]
    },
    {
      "cell_type": "markdown",
      "metadata": {
        "id": "CNtsZbi6TdsB"
      },
      "source": [
        "\n",
        "\n",
        "---\n",
        "\n",
        "\n",
        "Semoga Bermanfaat dan jangan lupa main-main kesini: <a href=\"https://nurpurwanto.github.io/\">**nurpurwanto**</a> Terimakasih.\n",
        "\n",
        "---\n",
        "\n",
        "\n"
      ]
    }
  ],
  "metadata": {
    "kernelspec": {
      "display_name": "Python 3",
      "language": "python",
      "name": "python3"
    },
    "language_info": {
      "codemirror_mode": {
        "name": "ipython",
        "version": 3
      },
      "file_extension": ".py",
      "mimetype": "text/x-python",
      "name": "python",
      "nbconvert_exporter": "python",
      "pygments_lexer": "ipython3",
      "version": "3.7.3"
    },
    "colab": {
      "name": "11_Waffle_Chart.ipynb",
      "provenance": [],
      "collapsed_sections": []
    }
  },
  "nbformat": 4,
  "nbformat_minor": 0
}